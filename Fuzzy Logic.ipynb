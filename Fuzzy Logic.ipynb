{
 "cells": [
  {
   "cell_type": "markdown",
   "metadata": {},
   "source": [
    "# Fuzzy Logic\n",
    "Fuzzy logic merupakan logika yang digunakan untuk menggambarkan ketidakjelasan (fuzziness). Teori himpunan fuzzy menyerupai penalaran manusia dalam penggunaan informasi perkiraan dan ketidakpastian untuk menghasilkan keputusan.\n",
    "\n",
    "Dalam membangun fuzzy system, terdapat tiga proses utama, yaitu:\n",
    "\n",
    "<img src=\"Asset/fuzzylogic_mainprocess.PNG\"/>\n",
    "\n",
    "#### Fuzzyfication\n",
    "> Tranformasi input kedalam fuzzy values berdasarkan fungsi keanggotaannya.\n",
    "\n",
    "#### Inference\n",
    "> Menentukan output fuzzy menggunakan aturan yang telah dibuat.\n",
    "\n",
    "#### Difuzzification\n",
    "> Mengubah kembali nilai fuzzy output menjadi crisp value."
   ]
  },
  {
   "cell_type": "markdown",
   "metadata": {},
   "source": [
    "Dalam membangun Fuzzy system, akan dibagi kedalam empat tahapan, yaitu:"
   ]
  },
  {
   "cell_type": "markdown",
   "metadata": {},
   "source": [
    "### Step 1: Determine the Input and Output\n",
    "\n",
    "Desain variable linguistik untuk setiap input, dan output.\n",
    "\n",
    "**Input:**\n",
    "> Tes Kopetensi : **High, Average, Low**\n",
    "> Kepribadian : **Upper, Middle, Bottom**\n",
    "\n",
    "**Output:**\n",
    "> IDDiterima : **Ya, Tidak**"
   ]
  },
  {
   "cell_type": "markdown",
   "metadata": {},
   "source": [
    "### Step 2: Design the Membership Functions"
   ]
  },
  {
   "cell_type": "markdown",
   "metadata": {},
   "source": [
    "##### a. Tes Kompetensi\n",
    "\n",
    "> **Tinggi** : nilai > 73.5, nilai <= 68.5\n",
    "\n",
    "> **Sedang** : nilai > 62.5, nilai < 72\n",
    "\n",
    "> **Rendah** : nilai <= 52.5, nilai > 65"
   ]
  },
  {
   "cell_type": "code",
   "execution_count": 1,
   "metadata": {},
   "outputs": [],
   "source": [
    "def tesKompetensiTinggi(nilai):\n",
    "    hasil = 0\n",
    "    if nilai <= 68.5:\n",
    "        hasil = 0\n",
    "    elif nilai > 73.5:\n",
    "        hasil = 1\n",
    "    else:\n",
    "        hasil = (nilai-68.5)/(73.5-68.5)\n",
    "    \n",
    "    return hasil"
   ]
  },
  {
   "cell_type": "code",
   "execution_count": 2,
   "metadata": {},
   "outputs": [],
   "source": [
    "def tesKompetensiRendah(nilai):\n",
    "    hasil = 0\n",
    "    if nilai <= 52.5:\n",
    "        hasil = 1\n",
    "    elif nilai > 65:\n",
    "        hasil = 0\n",
    "    else:\n",
    "        hasil = (65-nilai)/(65-52.5)\n",
    "    \n",
    "    return hasil"
   ]
  },
  {
   "cell_type": "code",
   "execution_count": 3,
   "metadata": {},
   "outputs": [],
   "source": [
    "def tesKompetensiSedang(nilai):\n",
    "    hasil = 0\n",
    "    if nilai <= 52.5 or nilai > 80:\n",
    "        hasil = 0\n",
    "    elif nilai > 52.5 and nilai <= 62.5:\n",
    "        hasil = (nilai-52.5)/(62.5-52.5)\n",
    "    elif nilai > 62.5 and nilai <= 72:\n",
    "        hasil = 1\n",
    "    else:\n",
    "        hasil = (80-nilai)/(80-72)\n",
    "    \n",
    "    return hasil"
   ]
  },
  {
   "cell_type": "code",
   "execution_count": 4,
   "metadata": {},
   "outputs": [],
   "source": [
    "def GraphTesKompetensi(my_data):\n",
    "    plt.plot(my_data, [tesKompetensiRendah(x) for x in my_data], color='green', label='Low')\n",
    "    plt.plot(my_data, [tesKompetensiSedang(x) for x in my_data], color='yellow', label='Average')\n",
    "    plt.plot(my_data, [tesKompetensiTinggi(x) for x in my_data], color='blue', label='High')\n",
    "    plt.title('Graph Tes Kopetensi', color='white')\n",
    "    plt.legend()\n",
    "    plt.show()"
   ]
  },
  {
   "cell_type": "markdown",
   "metadata": {},
   "source": [
    "##### b. Kepribadian\n",
    "\n",
    "> **Baik** : nilai > 73, nilai <= 65\n",
    "\n",
    "> **Cukup** : nilai > 50, nilai < 60\n",
    "\n",
    "> **Buruk** : nilai <= 40, nilai > 55"
   ]
  },
  {
   "cell_type": "code",
   "execution_count": 5,
   "metadata": {},
   "outputs": [],
   "source": [
    "def kepribadianTinggi(nilai):\n",
    "    hasil = 0\n",
    "    if nilai <= 65:\n",
    "        hasil = 0\n",
    "    elif nilai > 73:\n",
    "        hasil = 1\n",
    "    else:\n",
    "        hasil = (nilai-65)/(73-65)\n",
    "    \n",
    "    return hasil"
   ]
  },
  {
   "cell_type": "code",
   "execution_count": 6,
   "metadata": {},
   "outputs": [],
   "source": [
    "def kepribadianRendah(nilai):\n",
    "    hasil = 0\n",
    "    if nilai <= 40:\n",
    "        hasil = 1\n",
    "    elif nilai > 55:\n",
    "        hasil = 0\n",
    "    else:\n",
    "        hasil = (55-nilai)/(55-40)\n",
    "    \n",
    "    return hasil"
   ]
  },
  {
   "cell_type": "code",
   "execution_count": 7,
   "metadata": {},
   "outputs": [],
   "source": [
    "def kepribadianSedang(nilai):\n",
    "    hasil = 0\n",
    "    if nilai <= 40 or nilai > 75:\n",
    "        hasil = 0\n",
    "    elif nilai > 40 and nilai <= 50:\n",
    "        hasil = (nilai-40)/(50-40)\n",
    "    elif nilai > 50 and nilai <= 60:\n",
    "        hasil = 1\n",
    "    else:\n",
    "        hasil = (75-nilai)/(75-60)\n",
    "    \n",
    "    return hasil"
   ]
  },
  {
   "cell_type": "code",
   "execution_count": 8,
   "metadata": {},
   "outputs": [],
   "source": [
    "def GraphKepribadian(my_data):\n",
    "    plt.plot(my_data, [kepribadianRendah(x) for x in my_data], color='green', label='Buttom')\n",
    "    plt.plot(my_data, [kepribadianSedang(x) for x in my_data], color='yellow', label='Middle')\n",
    "    plt.plot(my_data, [kepribadianTinggi(x) for x in my_data], color='blue', label='Upper')\n",
    "    plt.title('Graph Kepribadian', color='white')\n",
    "    plt.legend()\n",
    "    plt.show()"
   ]
  },
  {
   "cell_type": "code",
   "execution_count": 9,
   "metadata": {},
   "outputs": [],
   "source": [
    "def fuzzification(data_kompetensi, data_kepribadian):\n",
    "    kompetensi = {}\n",
    "    kepribadian = {}\n",
    "    \n",
    "    kompetensi['high'] = tesKompetensiTinggi(data_kompetensi)\n",
    "    kompetensi['average'] = tesKompetensiSedang(data_kompetensi)\n",
    "    kompetensi['low'] = tesKompetensiRendah(data_kompetensi)\n",
    "    \n",
    "    kepribadian['upper'] = kepribadianTinggi(data_kepribadian)\n",
    "    kepribadian['middle'] = kepribadianSedang(data_kepribadian)\n",
    "    kepribadian['bottom'] = kepribadianRendah(data_kepribadian)\n",
    "    \n",
    "    return kompetensi, kepribadian"
   ]
  },
  {
   "cell_type": "markdown",
   "metadata": {},
   "source": [
    "### Step 3: Design the Fuzzy Rules\n",
    "\n",
    "Tetapkan aturan yang akan menentukan skor ```Diterima``` atau ```Ditolak``` berdasarkan Tes Kepribadian dan Kepribadian\n",
    "\n",
    "| Tes Kompetensi | Kepribadina | IDDiterima |\n",
    "| --- | --- | --- |\n",
    "| High | Upper | Ya |\n",
    "| High | Middle | Ya |\n",
    "| High | Bottom | Tidak |\n",
    "| Average | Upper | Ya |\n",
    "| Average | Middle | Ya |\n",
    "| Average | Bottom | Tidak |\n",
    "| Low | Upper | Ya |\n",
    "| Low | Middle | Tidak |\n",
    "| Low | Bottom | Tidak |\n",
    "\n",
    "\n",
    "**1. Conjunction Rule**\n",
    "\n",
    "Dengan menggunakan teknik ```clipping```, aturan konjungsi akan mendapatkan nilai minimum input fuzzy sebagai output fuzzy.\n",
    "\n",
    "**2. Disjunction Rule**\n",
    "\n",
    "Dengan menggunakan aturan disjuction, dapatkan value maksimum dari setiap fuzzy output"
   ]
  },
  {
   "cell_type": "code",
   "execution_count": 10,
   "metadata": {},
   "outputs": [],
   "source": [
    "def inference(kompetensi, kepribadian):\n",
    "    score_ya = []\n",
    "    score_tidak = []\n",
    "    \n",
    "    conjunction_rule = [\n",
    "        [min(kompetensi['high'], kepribadian['upper']), 'Ya'],\n",
    "        [min(kompetensi['high'], kepribadian['middle']), 'Ya'],\n",
    "        [min(kompetensi['high'], kepribadian['bottom']), 'Tidak'],\n",
    "        [min(kompetensi['average'], kepribadian['upper']), 'Ya'],\n",
    "        [min(kompetensi['average'], kepribadian['middle']), 'Ya'],\n",
    "        [min(kompetensi['average'], kepribadian['bottom']), 'Tidak'],\n",
    "        [min(kompetensi['low'], kepribadian['upper']), 'Ya'],\n",
    "        [min(kompetensi['low'], kepribadian['middle']), 'Tidak'],\n",
    "        [min(kompetensi['low'], kepribadian['bottom']), 'Tidak']\n",
    "    ]\n",
    "    for i in range(len(conjunction_rule)):\n",
    "        if conjunction_rule[i][1] == 'Ya':\n",
    "            score_ya.append(conjunction_rule[i][0])\n",
    "        else:\n",
    "            score_tidak.append(conjunction_rule[i][0])\n",
    "            \n",
    "    return max(score_ya), max(score_tidak)"
   ]
  },
  {
   "cell_type": "markdown",
   "metadata": {},
   "source": [
    "### Step 4: Choose Defuzzification Method\n",
    "\n",
    "Metode yang biasanya digunakan dalam mengubah fuzzy set kedalam crisp set ada dua, yaitu:\n",
    "* Center of Gravity (Mamdany-style)\n",
    "\n",
    "<img src=\"Asset/mamdani.PNG\"/>\n",
    "\n",
    "* Constant Defuzzification (Takagi-Sugeno-Style)\n",
    "\n",
    "<img src=\"Asset/sugeno.PNG\"/>\n"
   ]
  },
  {
   "cell_type": "code",
   "execution_count": 11,
   "metadata": {},
   "outputs": [],
   "source": [
    "def sugeno_defuzzification(score_ya, score_tidak):\n",
    "    const_tidak = 50\n",
    "    const_ya = 100\n",
    "    \n",
    "    return (((score_ya*const_ya)+(score_tidak*const_tidak))/(score_ya+score_tidak))"
   ]
  },
  {
   "cell_type": "markdown",
   "metadata": {},
   "source": [
    "* **Mengubah Crisp Data Kedalam Linguistic**"
   ]
  },
  {
   "cell_type": "code",
   "execution_count": 12,
   "metadata": {},
   "outputs": [],
   "source": [
    "def ubahHasilDefuzzification(hasil_defuzzification):\n",
    "    hasil_idditerima = []\n",
    "    for i in hasil_defuzzification:\n",
    "        if i < 100:\n",
    "            hasil_idditerima.append('Tidak')\n",
    "        else:\n",
    "            hasil_idditerima.append('Ya')\n",
    "            \n",
    "    return hasil_idditerima"
   ]
  },
  {
   "cell_type": "markdown",
   "metadata": {},
   "source": [
    "* **Menghitung Akurasi**"
   ]
  },
  {
   "cell_type": "code",
   "execution_count": 13,
   "metadata": {},
   "outputs": [],
   "source": [
    "def getAccuracy(hasil_idditerima, data_score_csv):\n",
    "    hasil_sama = 0\n",
    "    for i in range(len(hasil_idditerima)):\n",
    "        if hasil_idditerima[i] == data_score_csv[i]:\n",
    "            hasil_sama += 1\n",
    "            \n",
    "    return (hasil_sama/len(hasil_idditerima))*100"
   ]
  },
  {
   "cell_type": "markdown",
   "metadata": {},
   "source": [
    "# Melakukan Komputasi Terhadap Input CSV"
   ]
  },
  {
   "cell_type": "code",
   "execution_count": 14,
   "metadata": {},
   "outputs": [],
   "source": [
    "import pandas as pd\n",
    "import matplotlib.pyplot as plt\n",
    "import numpy as np\n",
    "import operator"
   ]
  },
  {
   "cell_type": "code",
   "execution_count": 15,
   "metadata": {},
   "outputs": [
    {
     "data": {
      "text/html": [
       "<div>\n",
       "<style scoped>\n",
       "    .dataframe tbody tr th:only-of-type {\n",
       "        vertical-align: middle;\n",
       "    }\n",
       "\n",
       "    .dataframe tbody tr th {\n",
       "        vertical-align: top;\n",
       "    }\n",
       "\n",
       "    .dataframe thead th {\n",
       "        text-align: right;\n",
       "    }\n",
       "</style>\n",
       "<table border=\"1\" class=\"dataframe\">\n",
       "  <thead>\n",
       "    <tr style=\"text-align: right;\">\n",
       "      <th></th>\n",
       "      <th>ID</th>\n",
       "      <th>Tes Kompetensi</th>\n",
       "      <th>Kepribadian</th>\n",
       "      <th>IDDiterima</th>\n",
       "    </tr>\n",
       "  </thead>\n",
       "  <tbody>\n",
       "    <tr>\n",
       "      <th>0</th>\n",
       "      <td>P1</td>\n",
       "      <td>61.0</td>\n",
       "      <td>37.5</td>\n",
       "      <td>Tidak</td>\n",
       "    </tr>\n",
       "    <tr>\n",
       "      <th>1</th>\n",
       "      <td>P2</td>\n",
       "      <td>71.0</td>\n",
       "      <td>58.3</td>\n",
       "      <td>Ya</td>\n",
       "    </tr>\n",
       "    <tr>\n",
       "      <th>2</th>\n",
       "      <td>P3</td>\n",
       "      <td>64.0</td>\n",
       "      <td>35.8</td>\n",
       "      <td>Tidak</td>\n",
       "    </tr>\n",
       "    <tr>\n",
       "      <th>3</th>\n",
       "      <td>P4</td>\n",
       "      <td>60.0</td>\n",
       "      <td>51.7</td>\n",
       "      <td>Tidak</td>\n",
       "    </tr>\n",
       "    <tr>\n",
       "      <th>4</th>\n",
       "      <td>P5</td>\n",
       "      <td>73.5</td>\n",
       "      <td>75.0</td>\n",
       "      <td>Ya</td>\n",
       "    </tr>\n",
       "  </tbody>\n",
       "</table>\n",
       "</div>"
      ],
      "text/plain": [
       "   ID  Tes Kompetensi  Kepribadian IDDiterima\n",
       "0  P1            61.0         37.5      Tidak\n",
       "1  P2            71.0         58.3         Ya\n",
       "2  P3            64.0         35.8      Tidak\n",
       "3  P4            60.0         51.7      Tidak\n",
       "4  P5            73.5         75.0         Ya"
      ]
     },
     "execution_count": 15,
     "metadata": {},
     "output_type": "execute_result"
    }
   ],
   "source": [
    "my_data_csv = pd.read_csv('data_tugas3.csv')\n",
    "\n",
    "my_data_csv.head()"
   ]
  },
  {
   "cell_type": "code",
   "execution_count": 16,
   "metadata": {},
   "outputs": [],
   "source": [
    "my_data_kompetensi = my_data_csv['Tes Kompetensi'][:20]\n",
    "my_data_kepribadian = my_data_csv['Kepribadian'][:20]"
   ]
  },
  {
   "cell_type": "markdown",
   "metadata": {},
   "source": [
    "### ~ Plot Membership Fuctions"
   ]
  },
  {
   "cell_type": "code",
   "execution_count": 17,
   "metadata": {},
   "outputs": [
    {
     "data": {
      "image/png": "[encoded data removed]",
      "text/plain": [
       "<Figure size 432x288 with 1 Axes>"
      ]
     },
     "metadata": {
      "needs_background": "light"
     },
     "output_type": "display_data"
    },
    {
     "data": {
      "image/png": "[encoded data removed]",
      "text/plain": [
       "<Figure size 432x288 with 1 Axes>"
      ]
     },
     "metadata": {
      "needs_background": "light"
     },
     "output_type": "display_data"
    }
   ],
   "source": [
    "GraphTesKompetensi(np.arange(0,100,1))\n",
    "GraphKepribadian(np.arange(0,100,1))"
   ]
  },
  {
   "cell_type": "markdown",
   "metadata": {},
   "source": [
    "### ~ Melakukan Validasi Terhadap Data yang Sudah Terisi"
   ]
  },
  {
   "cell_type": "code",
   "execution_count": 18,
   "metadata": {},
   "outputs": [],
   "source": [
    "hasil_defuzzification = []\n",
    "\n",
    "for i in range(len(my_data_kompetensi)):\n",
    "    fuzz1, fuzz2 = fuzzification(my_data_kompetensi[i], my_data_kepribadian[i])\n",
    "    score_ya, score_tidak = inference(fuzz1, fuzz2)\n",
    "    hasil_defuzzification.append(sugeno_defuzzification(score_ya, score_tidak))"
   ]
  },
  {
   "cell_type": "code",
   "execution_count": 19,
   "metadata": {},
   "outputs": [],
   "source": [
    "hasil_idditerima = ubahHasilDefuzzification(hasil_defuzzification)"
   ]
  },
  {
   "cell_type": "code",
   "execution_count": 20,
   "metadata": {},
   "outputs": [
    {
     "name": "stdout",
     "output_type": "stream",
     "text": [
      "Pediksi Fuzzy \t||  Data Sebenarnya\n",
      "1   Tidak  \t|| \t Tidak\n",
      "2   Ya  \t|| \t Ya\n",
      "3   Tidak  \t|| \t Tidak\n",
      "4   Tidak  \t|| \t Tidak\n",
      "5   Ya  \t|| \t Ya\n",
      "6   Ya  \t|| \t Ya\n",
      "7   Tidak  \t|| \t Tidak\n",
      "8   Tidak  \t|| \t Tidak\n",
      "9   Tidak  \t|| \t Tidak\n",
      "10   Ya  \t|| \t Ya\n",
      "11   Ya  \t|| \t Ya\n",
      "12   Ya  \t|| \t Ya\n",
      "13   Tidak  \t|| \t Tidak\n",
      "14   Tidak  \t|| \t Tidak\n",
      "15   Tidak  \t|| \t Tidak\n",
      "16   Tidak  \t|| \t Tidak\n",
      "17   Ya  \t|| \t Ya\n",
      "18   Tidak  \t|| \t Tidak\n",
      "19   Ya  \t|| \t Ya\n",
      "20   Ya  \t|| \t Ya\n"
     ]
    }
   ],
   "source": [
    "print('Pediksi Fuzzy \\t||  Data Sebenarnya')\n",
    "for i in range(len(hasil_idditerima)):\n",
    "    print(i+1, ' ', hasil_idditerima[i], ' \\t|| \\t', my_data_csv['IDDiterima'][i])"
   ]
  },
  {
   "cell_type": "code",
   "execution_count": 21,
   "metadata": {},
   "outputs": [
    {
     "name": "stdout",
     "output_type": "stream",
     "text": [
      "=====================\n",
      "Accuracy :  100.0 %\n",
      "=====================\n"
     ]
    }
   ],
   "source": [
    "print('=====================')\n",
    "print('Accuracy : ', getAccuracy(hasil_idditerima, my_data_csv['IDDiterima'][:20]), '%')\n",
    "print('=====================')"
   ]
  },
  {
   "cell_type": "markdown",
   "metadata": {},
   "source": [
    "### ~ Mengolah IDDiterima yang Masih Kosong"
   ]
  },
  {
   "cell_type": "code",
   "execution_count": 22,
   "metadata": {},
   "outputs": [],
   "source": [
    "data_kompetensi = my_data_csv['Tes Kompetensi']\n",
    "data_kepribadian = my_data_csv['Kepribadian']"
   ]
  },
  {
   "cell_type": "code",
   "execution_count": 23,
   "metadata": {},
   "outputs": [],
   "source": [
    "hasil_defuzzification = []\n",
    "\n",
    "for i in range(20, len(data_kompetensi)):\n",
    "    fuzz1, fuzz2 = fuzzification(data_kompetensi[i], data_kepribadian[i])\n",
    "    score_ya, score_tidak = inference(fuzz1, fuzz2)\n",
    "    hasil_defuzzification.append(sugeno_defuzzification(score_ya, score_tidak))"
   ]
  },
  {
   "cell_type": "code",
   "execution_count": 24,
   "metadata": {},
   "outputs": [],
   "source": [
    "hasil_idditerima = ubahHasilDefuzzification(hasil_defuzzification)"
   ]
  },
  {
   "cell_type": "markdown",
   "metadata": {},
   "source": [
    "### ~ Menyimpan Hasil Perhitungan Kedalam CSV"
   ]
  },
  {
   "cell_type": "code",
   "execution_count": 25,
   "metadata": {},
   "outputs": [
    {
     "name": "stderr",
     "output_type": "stream",
     "text": [
      "C:\\Users\\babyanaconda\\Anaconda3\\lib\\site-packages\\ipykernel_launcher.py:1: SettingWithCopyWarning: \n",
      "A value is trying to be set on a copy of a slice from a DataFrame\n",
      "\n",
      "See the caveats in the documentation: http://pandas.pydata.org/pandas-docs/stable/indexing.html#indexing-view-versus-copy\n",
      "  \"\"\"Entry point for launching an IPython kernel.\n"
     ]
    }
   ],
   "source": [
    "my_data_csv['IDDiterima'][20:] = hasil_idditerima\n",
    "my_data_csv[20:].to_csv('TebakanTugas3.csv')"
   ]
  },
  {
   "cell_type": "markdown",
   "metadata": {},
   "source": [
    "### ~ Menampilkan Hasil CSV Setelah Penambahan"
   ]
  },
  {
   "cell_type": "code",
   "execution_count": 26,
   "metadata": {},
   "outputs": [],
   "source": [
    "my_data_hasil = pd.read_csv('TebakanTugas3.csv')\n",
    "my_data_hasil = my_data_hasil.drop(columns=['Unnamed: 0'])"
   ]
  },
  {
   "cell_type": "code",
   "execution_count": 27,
   "metadata": {},
   "outputs": [
    {
     "data": {
      "text/html": [
       "<div>\n",
       "<style scoped>\n",
       "    .dataframe tbody tr th:only-of-type {\n",
       "        vertical-align: middle;\n",
       "    }\n",
       "\n",
       "    .dataframe tbody tr th {\n",
       "        vertical-align: top;\n",
       "    }\n",
       "\n",
       "    .dataframe thead th {\n",
       "        text-align: right;\n",
       "    }\n",
       "</style>\n",
       "<table border=\"1\" class=\"dataframe\">\n",
       "  <thead>\n",
       "    <tr style=\"text-align: right;\">\n",
       "      <th></th>\n",
       "      <th>ID</th>\n",
       "      <th>Tes Kompetensi</th>\n",
       "      <th>Kepribadian</th>\n",
       "      <th>IDDiterima</th>\n",
       "    </tr>\n",
       "  </thead>\n",
       "  <tbody>\n",
       "    <tr>\n",
       "      <th>0</th>\n",
       "      <td>P21</td>\n",
       "      <td>61.5</td>\n",
       "      <td>52.5</td>\n",
       "      <td>Tidak</td>\n",
       "    </tr>\n",
       "    <tr>\n",
       "      <th>1</th>\n",
       "      <td>P22</td>\n",
       "      <td>66.5</td>\n",
       "      <td>58.3</td>\n",
       "      <td>Ya</td>\n",
       "    </tr>\n",
       "    <tr>\n",
       "      <th>2</th>\n",
       "      <td>P23</td>\n",
       "      <td>71.0</td>\n",
       "      <td>45.8</td>\n",
       "      <td>Tidak</td>\n",
       "    </tr>\n",
       "    <tr>\n",
       "      <th>3</th>\n",
       "      <td>P24</td>\n",
       "      <td>64.5</td>\n",
       "      <td>55.0</td>\n",
       "      <td>Tidak</td>\n",
       "    </tr>\n",
       "    <tr>\n",
       "      <th>4</th>\n",
       "      <td>P25</td>\n",
       "      <td>57.5</td>\n",
       "      <td>79.2</td>\n",
       "      <td>Ya</td>\n",
       "    </tr>\n",
       "    <tr>\n",
       "      <th>5</th>\n",
       "      <td>P26</td>\n",
       "      <td>80.0</td>\n",
       "      <td>45.8</td>\n",
       "      <td>Tidak</td>\n",
       "    </tr>\n",
       "    <tr>\n",
       "      <th>6</th>\n",
       "      <td>P27</td>\n",
       "      <td>81.5</td>\n",
       "      <td>53.3</td>\n",
       "      <td>Tidak</td>\n",
       "    </tr>\n",
       "    <tr>\n",
       "      <th>7</th>\n",
       "      <td>P28</td>\n",
       "      <td>61.0</td>\n",
       "      <td>64.2</td>\n",
       "      <td>Tidak</td>\n",
       "    </tr>\n",
       "    <tr>\n",
       "      <th>8</th>\n",
       "      <td>P29</td>\n",
       "      <td>46.0</td>\n",
       "      <td>65.8</td>\n",
       "      <td>Tidak</td>\n",
       "    </tr>\n",
       "    <tr>\n",
       "      <th>9</th>\n",
       "      <td>P30</td>\n",
       "      <td>78.0</td>\n",
       "      <td>49.2</td>\n",
       "      <td>Tidak</td>\n",
       "    </tr>\n",
       "  </tbody>\n",
       "</table>\n",
       "</div>"
      ],
      "text/plain": [
       "    ID  Tes Kompetensi  Kepribadian IDDiterima\n",
       "0  P21            61.5         52.5      Tidak\n",
       "1  P22            66.5         58.3         Ya\n",
       "2  P23            71.0         45.8      Tidak\n",
       "3  P24            64.5         55.0      Tidak\n",
       "4  P25            57.5         79.2         Ya\n",
       "5  P26            80.0         45.8      Tidak\n",
       "6  P27            81.5         53.3      Tidak\n",
       "7  P28            61.0         64.2      Tidak\n",
       "8  P29            46.0         65.8      Tidak\n",
       "9  P30            78.0         49.2      Tidak"
      ]
     },
     "execution_count": 27,
     "metadata": {},
     "output_type": "execute_result"
    }
   ],
   "source": [
    "my_data_hasil"
   ]
  },
  {
   "cell_type": "code",
   "execution_count": null,
   "metadata": {},
   "outputs": [],
   "source": []
  }
 ],
 "metadata": {
  "kernelspec": {
   "display_name": "Python 3",
   "language": "python",
   "name": "python3"
  },
  "language_info": {
   "codemirror_mode": {
    "name": "ipython",
    "version": 3
   },
   "file_extension": ".py",
   "mimetype": "text/x-python",
   "name": "python",
   "nbconvert_exporter": "python",
   "pygments_lexer": "ipython3",
   "version": "3.7.1"
  }
 },
 "nbformat": 4,
 "nbformat_minor": 2
}
